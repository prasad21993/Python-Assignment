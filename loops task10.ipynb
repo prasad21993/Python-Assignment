{
 "cells": [
  {
   "cell_type": "code",
   "execution_count": 3,
   "metadata": {},
   "outputs": [
    {
     "name": "stdout",
     "output_type": "stream",
     "text": [
      "1\n",
      "2\n",
      "3\n",
      "4\n",
      "5\n",
      "6\n",
      "7\n",
      "8\n",
      "9\n",
      "10\n"
     ]
    }
   ],
   "source": [
    "# for loop\n",
    "#print 1 to 10\n",
    "\n",
    "for i in range(1,11):    #range 1 is start and stop is 10\n",
    "    print(i)"
   ]
  },
  {
   "cell_type": "code",
   "execution_count": 11,
   "metadata": {},
   "outputs": [
    {
     "name": "stdout",
     "output_type": "stream",
     "text": [
      "10\n",
      "9\n",
      "8\n",
      "7\n",
      "6\n",
      "5\n",
      "4\n",
      "3\n",
      "2\n",
      "1\n"
     ]
    }
   ],
   "source": [
    "# for loop\n",
    "#print 10 to 1\n",
    "\n",
    "for j in range(10,0,-1):    #range 10 is start and stop is 1\n",
    "    print(j)"
   ]
  },
  {
   "cell_type": "code",
   "execution_count": 13,
   "metadata": {},
   "outputs": [
    {
     "name": "stdout",
     "output_type": "stream",
     "text": [
      "1\n",
      "2\n",
      "3\n",
      "4\n",
      "5\n",
      "6\n",
      "7\n",
      "8\n",
      "9\n",
      "10\n"
     ]
    }
   ],
   "source": [
    "# while loop\n",
    "#print 1 to 10\n",
    "\n",
    "i = 1\n",
    "while(i<=10):\n",
    "    print(i)\n",
    "    i += 1"
   ]
  },
  {
   "cell_type": "code",
   "execution_count": 19,
   "metadata": {},
   "outputs": [
    {
     "name": "stdout",
     "output_type": "stream",
     "text": [
      "10\n",
      "9\n",
      "8\n",
      "7\n",
      "6\n",
      "5\n",
      "4\n",
      "3\n",
      "2\n",
      "1\n"
     ]
    }
   ],
   "source": [
    "# while loop\n",
    "#print 10 to 1\n",
    "\n",
    "i = 10\n",
    "while(10>=i):\n",
    "    print(i)\n",
    "    if(i==1):\n",
    "        break\n",
    "    i -= 1"
   ]
  },
  {
   "cell_type": "code",
   "execution_count": 35,
   "metadata": {},
   "outputs": [
    {
     "name": "stdout",
     "output_type": "stream",
     "text": [
      "H e l l o   W o r l d "
     ]
    }
   ],
   "source": [
    "#to fetch string value\n",
    "\n",
    "string = \"Hello World\"\n",
    "for char in string:\n",
    "    print(char,end=' ')"
   ]
  },
  {
   "cell_type": "code",
   "execution_count": 36,
   "metadata": {},
   "outputs": [
    {
     "name": "stdout",
     "output_type": "stream",
     "text": [
      "d l r o W   o l l e H "
     ]
    }
   ],
   "source": [
    "#to fetch string value in \"reverase order\"\n",
    "\n",
    "string = \"Hello World\"\n",
    "for char in string[::-1]:\n",
    "    print(char,end=' ')"
   ]
  },
  {
   "cell_type": "code",
   "execution_count": 48,
   "metadata": {},
   "outputs": [
    {
     "name": "stdout",
     "output_type": "stream",
     "text": [
      "1 2 3.3 4.4 a b True False "
     ]
    }
   ],
   "source": [
    "# to get value from list one by one\n",
    "\n",
    "list1 = [1,2,3.3,4.4,'a','b',True,False]\n",
    "for list2 in list1:\n",
    "    print(list2,end=' ')"
   ]
  },
  {
   "cell_type": "code",
   "execution_count": 43,
   "metadata": {},
   "outputs": [
    {
     "name": "stdout",
     "output_type": "stream",
     "text": [
      "1 2 3.3 4.4 a b True False "
     ]
    }
   ],
   "source": [
    "# to get value from tuples one by one\n",
    "\n",
    "tup1 = (1,2,3.3,4.4,'a','b',True,False)\n",
    "for tup2 in tup1:\n",
    "    print(tup2,end=' ')"
   ]
  },
  {
   "cell_type": "code",
   "execution_count": 45,
   "metadata": {},
   "outputs": [
    {
     "name": "stdout",
     "output_type": "stream",
     "text": [
      "False 1 2 3.3 4.4 b a "
     ]
    }
   ],
   "source": [
    "# to get value from set one by one\n",
    "\n",
    "set1 = {1,2,3.3,4.4,'a','b',True,False}\n",
    "for set2 in set1:\n",
    "    print(set2,end=' ')"
   ]
  },
  {
   "cell_type": "code",
   "execution_count": 56,
   "metadata": {},
   "outputs": [
    {
     "name": "stdout",
     "output_type": "stream",
     "text": [
      "a b c \n",
      "1 2 3 \n",
      "('a', 1) ('b', 2) ('c', 3) "
     ]
    }
   ],
   "source": [
    "# to get value from Dictionary one by one\n",
    "\n",
    "dict1 = {'a':1,'b':2,'c':3}\n",
    "for dict2 in dict1:\n",
    "    print(dict2,end=' ')\n",
    "    \n",
    "print()\n",
    "# print values\n",
    "for dict2 in dict1.values():\n",
    "    print(dict2,end=' ')\n",
    "    \n",
    "print()\n",
    "#keys and values both\n",
    "for dict2 in dict1.items():\n",
    "    print(dict2,end=' ')"
   ]
  }
 ],
 "metadata": {
  "kernelspec": {
   "display_name": "Python 3",
   "language": "python",
   "name": "python3"
  },
  "language_info": {
   "codemirror_mode": {
    "name": "ipython",
    "version": 3
   },
   "file_extension": ".py",
   "mimetype": "text/x-python",
   "name": "python",
   "nbconvert_exporter": "python",
   "pygments_lexer": "ipython3",
   "version": "3.7.6"
  }
 },
 "nbformat": 4,
 "nbformat_minor": 4
}
