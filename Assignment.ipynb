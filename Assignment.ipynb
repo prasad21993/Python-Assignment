{
 "cells": [
  {
   "cell_type": "markdown",
   "metadata": {},
   "source": [
    "#    # Assignment 1"
   ]
  },
  {
   "cell_type": "code",
   "execution_count": 1,
   "metadata": {},
   "outputs": [
    {
     "name": "stdout",
     "output_type": "stream",
     "text": [
      "I like python\n"
     ]
    }
   ],
   "source": [
    "''' \n",
    ".replace()\n",
    "Return a string where a specified value is replaced with specified vale\n",
    "'''\n",
    "\n",
    "str1 = \"I love python\"\n",
    "str2 = str1.replace('love','like')\n",
    "print(str2)"
   ]
  },
  {
   "cell_type": "code",
   "execution_count": 2,
   "metadata": {},
   "outputs": [
    {
     "name": "stdout",
     "output_type": "stream",
     "text": [
      "2\n"
     ]
    }
   ],
   "source": [
    "'''\n",
    ".count()\n",
    "Return the number of times a specified value occurs in a string\n",
    "'''\n",
    "\n",
    "str1 = \"Hello World\"\n",
    "x = str1.count('o')\n",
    "print(x)"
   ]
  },
  {
   "cell_type": "code",
   "execution_count": 4,
   "metadata": {},
   "outputs": [
    {
     "name": "stdout",
     "output_type": "stream",
     "text": [
      "True\n"
     ]
    }
   ],
   "source": [
    "'''\n",
    ".isalpha()\n",
    "Return True if string contain only char\n",
    "'''\n",
    "\n",
    "str1 = \"hello\"\n",
    "x = str1.isalpha()\n",
    "print(x)"
   ]
  },
  {
   "cell_type": "code",
   "execution_count": 6,
   "metadata": {},
   "outputs": [
    {
     "name": "stdout",
     "output_type": "stream",
     "text": [
      "True\n"
     ]
    }
   ],
   "source": [
    "'''\n",
    ".isdigit()\n",
    "Return True if string contain only digit\n",
    "'''\n",
    "\n",
    "str1 = \"123\"\n",
    "x = str1.isdigit()\n",
    "print(x)"
   ]
  },
  {
   "cell_type": "code",
   "execution_count": 7,
   "metadata": {},
   "outputs": [
    {
     "name": "stdout",
     "output_type": "stream",
     "text": [
      "True\n"
     ]
    }
   ],
   "source": [
    "'''\n",
    ".isalnum()\n",
    "Return True if string contain only char\n",
    "'''\n",
    "\n",
    "str1 = \"hello123\"\n",
    "x = str1.isalnum()\n",
    "print(x)"
   ]
  },
  {
   "cell_type": "code",
   "execution_count": 31,
   "metadata": {},
   "outputs": [
    {
     "name": "stdout",
     "output_type": "stream",
     "text": [
      "2\n"
     ]
    }
   ],
   "source": [
    "'''\n",
    ".find()\n",
    "this function search the string for a specifid value and return the poisiton or index value of where it was found\n",
    "'''\n",
    "\n",
    "str1 = \"i love python program\"\n",
    "x = str1.find('l')\n",
    "print(x)"
   ]
  },
  {
   "cell_type": "markdown",
   "metadata": {},
   "source": [
    "# Assignment 2"
   ]
  },
  {
   "cell_type": "code",
   "execution_count": 5,
   "metadata": {},
   "outputs": [
    {
     "name": "stdout",
     "output_type": "stream",
     "text": [
      "8\n",
      "-1\n"
     ]
    }
   ],
   "source": [
    "\"\"\"\n",
    "if result is -1 that means string not contain that value\n",
    "\"\"\"\n",
    "str1 = \"Welcome to python\"\n",
    "str2 =\"I love python\"\n",
    "x = str1.find('to')    # if result is whole number then string is present\n",
    "y = str2.find('to')    # if result is -1 then srting not found\n",
    "print(x)\n",
    "print(y)"
   ]
  }
 ],
 "metadata": {
  "kernelspec": {
   "display_name": "Python 3",
   "language": "python",
   "name": "python3"
  },
  "language_info": {
   "codemirror_mode": {
    "name": "ipython",
    "version": 3
   },
   "file_extension": ".py",
   "mimetype": "text/x-python",
   "name": "python",
   "nbconvert_exporter": "python",
   "pygments_lexer": "ipython3",
   "version": "3.7.6"
  }
 },
 "nbformat": 4,
 "nbformat_minor": 4
}
