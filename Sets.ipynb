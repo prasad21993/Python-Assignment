{
 "cells": [
  {
   "cell_type": "code",
   "execution_count": 9,
   "metadata": {},
   "outputs": [
    {
     "name": "stdout",
     "output_type": "stream",
     "text": [
      "{4, 5}\n",
      "{4, 5}\n"
     ]
    }
   ],
   "source": [
    "\"\"\"\n",
    "Intersection\n",
    "\"\"\"\n",
    "\n",
    "set1 = {1,2,3,4,5}\n",
    "set2 = {4,5,6,7,8}\n",
    "set3 = set1.intersection(set2)   #return which is commen in two sets\n",
    "print(set3)\n",
    "set3 = set2.intersection(set1)   #return which is commen in two sets\n",
    "print(set3)"
   ]
  },
  {
   "cell_type": "code",
   "execution_count": 8,
   "metadata": {},
   "outputs": [
    {
     "name": "stdout",
     "output_type": "stream",
     "text": [
      "{1, 2, 3}\n",
      "{8, 6, 7}\n"
     ]
    }
   ],
   "source": [
    "\"\"\"\n",
    "Difference\n",
    "\"\"\"\n",
    "\n",
    "set1 = {1,2,3,4,5}\n",
    "set2 = {4,5,6,7,8}\n",
    "set3 = set1.difference(set2)    #return which is not present in onther set\n",
    "print(set3)\n",
    "set3 = set2.difference(set1)    #return which is not present in onther set\n",
    "print(set3)"
   ]
  },
  {
   "cell_type": "code",
   "execution_count": 15,
   "metadata": {},
   "outputs": [
    {
     "name": "stdout",
     "output_type": "stream",
     "text": [
      "{1, 2, 3, 6, 7, 8}\n"
     ]
    }
   ],
   "source": [
    "\"\"\"\n",
    "symmetric_difference\n",
    "\"\"\"\n",
    "\n",
    "set1 = {1,2,3,4,5}\n",
    "set2 = {4,5,6,7,8}\n",
    "set3 = set1.symmetric_difference(set2)    #return unique element from two sets\n",
    "print(set3)"
   ]
  }
 ],
 "metadata": {
  "kernelspec": {
   "display_name": "Python 3",
   "language": "python",
   "name": "python3"
  },
  "language_info": {
   "codemirror_mode": {
    "name": "ipython",
    "version": 3
   },
   "file_extension": ".py",
   "mimetype": "text/x-python",
   "name": "python",
   "nbconvert_exporter": "python",
   "pygments_lexer": "ipython3",
   "version": "3.7.6"
  }
 },
 "nbformat": 4,
 "nbformat_minor": 4
}
