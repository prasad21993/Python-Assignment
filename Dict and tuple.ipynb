{
 "cells": [
  {
   "cell_type": "code",
   "execution_count": 17,
   "metadata": {},
   "outputs": [],
   "source": [
    "dict1 = { \n",
    "   \"april_batch\":{ \n",
    "      \"student\":{ \n",
    "         \"name\":\"Mike\",\n",
    "         \"marks\":{ \n",
    "            \"python\":80,\n",
    "            \"maths\":70\n",
    "         }\n",
    "      }\n",
    "   }\n",
    "}"
   ]
  },
  {
   "cell_type": "code",
   "execution_count": 18,
   "metadata": {},
   "outputs": [
    {
     "data": {
      "text/plain": [
       "{'april_batch': {'student': {'name': 'Mike',\n",
       "   'marks': {'python': 80, 'maths': 70}}}}"
      ]
     },
     "execution_count": 18,
     "metadata": {},
     "output_type": "execute_result"
    }
   ],
   "source": [
    "dict1"
   ]
  },
  {
   "cell_type": "code",
   "execution_count": 19,
   "metadata": {},
   "outputs": [
    {
     "data": {
      "text/plain": [
       "'Mike'"
      ]
     },
     "execution_count": 19,
     "metadata": {},
     "output_type": "execute_result"
    }
   ],
   "source": [
    "#access \"Mike\"\n",
    "\n",
    "dict1['april_batch']['student']['name']"
   ]
  },
  {
   "cell_type": "code",
   "execution_count": 20,
   "metadata": {},
   "outputs": [
    {
     "data": {
      "text/plain": [
       "80"
      ]
     },
     "execution_count": 20,
     "metadata": {},
     "output_type": "execute_result"
    }
   ],
   "source": [
    "#access 80\n",
    "\n",
    "dict1['april_batch']['student']['marks']['python']"
   ]
  },
  {
   "cell_type": "code",
   "execution_count": 21,
   "metadata": {},
   "outputs": [
    {
     "data": {
      "text/plain": [
       "{'april_batch': {'student': {'name': 'Prasad',\n",
       "   'marks': {'python': 80, 'maths': 70}}}}"
      ]
     },
     "execution_count": 21,
     "metadata": {},
     "output_type": "execute_result"
    }
   ],
   "source": [
    "#change \"Mike\" to \"Your name\"\n",
    "\n",
    "dict1['april_batch']['student']['name'] = \"Prasad\"\n",
    "dict1"
   ]
  },
  {
   "cell_type": "code",
   "execution_count": 25,
   "metadata": {},
   "outputs": [],
   "source": [
    "#add ML = 80 and DL = 80 inside marks\n",
    "\n",
    "dict1['april_batch']['student']['marks']\n",
    "dict1['april_batch']['student']['marks']['ML'] = 80\n",
    "dict1['april_batch']['student']['marks']['DL'] = 80"
   ]
  },
  {
   "cell_type": "code",
   "execution_count": 27,
   "metadata": {},
   "outputs": [
    {
     "data": {
      "text/plain": [
       "{'april_batch': {'student': {'name': 'Prasad',\n",
       "   'marks': {'python': 80, 'maths': 70, 'ML': 80, 'DL': 80}}}}"
      ]
     },
     "execution_count": 27,
     "metadata": {},
     "output_type": "execute_result"
    }
   ],
   "source": [
    "dict1"
   ]
  },
  {
   "cell_type": "code",
   "execution_count": 29,
   "metadata": {},
   "outputs": [],
   "source": [
    "## Tuples"
   ]
  },
  {
   "cell_type": "code",
   "execution_count": 48,
   "metadata": {},
   "outputs": [
    {
     "data": {
      "text/plain": [
       "(1, 2, 3, 4, 5)"
      ]
     },
     "execution_count": 48,
     "metadata": {},
     "output_type": "execute_result"
    }
   ],
   "source": [
    "tup1 = (1,2,3,4,5)\n",
    "tup1"
   ]
  },
  {
   "cell_type": "code",
   "execution_count": 49,
   "metadata": {},
   "outputs": [
    {
     "name": "stdout",
     "output_type": "stream",
     "text": [
      "[1, 2, 3, 4, 5]\n",
      "[1, 2, 3, 4, 5, 6, 7]\n",
      "(1, 2, 3, 4, 5, 6, 7)\n"
     ]
    }
   ],
   "source": [
    "#Add 6 & 7 \n",
    "#convert tuple into list\n",
    "list1 = list(tup1)\n",
    "print(list1)\n",
    "\n",
    "list2 = [6,7]\n",
    "list1.extend(list2)\n",
    "print(list1)\n",
    "\n",
    "#convert list into tuple\n",
    "tup1 = tuple(list1)\n",
    "print(tup1)"
   ]
  },
  {
   "cell_type": "code",
   "execution_count": 53,
   "metadata": {},
   "outputs": [
    {
     "name": "stdout",
     "output_type": "stream",
     "text": [
      "[1, 2, 3, 4, 5, 6, 7]\n",
      "[1, 2, 3, 4, 6, 7]\n"
     ]
    }
   ],
   "source": [
    "#remove 5\n",
    "#convert tuple into list\n",
    "list1 = list(tup1)\n",
    "print(list1)\n",
    "\n",
    "#removes the specified \n",
    "list1.remove(5)\n",
    "print(list1)\n",
    "\n"
   ]
  },
  {
   "cell_type": "code",
   "execution_count": null,
   "metadata": {},
   "outputs": [],
   "source": []
  }
 ],
 "metadata": {
  "kernelspec": {
   "display_name": "Python 3",
   "language": "python",
   "name": "python3"
  },
  "language_info": {
   "codemirror_mode": {
    "name": "ipython",
    "version": 3
   },
   "file_extension": ".py",
   "mimetype": "text/x-python",
   "name": "python",
   "nbconvert_exporter": "python",
   "pygments_lexer": "ipython3",
   "version": "3.7.6"
  }
 },
 "nbformat": 4,
 "nbformat_minor": 4
}
