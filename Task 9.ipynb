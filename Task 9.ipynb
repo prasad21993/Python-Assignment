{
 "cells": [
  {
   "cell_type": "code",
   "execution_count": 5,
   "metadata": {},
   "outputs": [
    {
     "name": "stdout",
     "output_type": "stream",
     "text": [
      "Enter 1st Number 4\n",
      "Enter 2nd number 3\n",
      "Please select the option from below\n",
      "1. Addition\n",
      "2. subtraction\n",
      "3. multiplication\n",
      "4. division\n",
      "Enter the option 6\n",
      "wrong option  selected\n"
     ]
    }
   ],
   "source": [
    "\"\"\"\n",
    "Ask 2 numbers from users and store it in num1 and num2\n",
    "Ask user to press 1 for addition,2 for subtraction,3 for multiplication and 4 for division\n",
    "based on number given by user do the math operation\n",
    "\"\"\"\n",
    "\n",
    "num1 = int(input(\"Enter 1st Number \"))\n",
    "num2 = int(input(\"Enter 2nd number \"))\n",
    "\n",
    "print(\"Please select the option from below\")\n",
    "print(\"1. Addition\")\n",
    "print(\"2. subtraction\")\n",
    "print(\"3. multiplication\")\n",
    "print(\"4. division\")\n",
    "opt = int(input(\"Enter the option \"))\n",
    "\n",
    "if(opt ==1 or opt ==2 or opt ==3 or opt ==4):\n",
    "    if(opt ==1):\n",
    "        print(num1+num2)\n",
    "    elif(opt ==2):\n",
    "        print(num1-num2)\n",
    "    elif(opt ==3):\n",
    "        print(num1*num2)\n",
    "    else:\n",
    "        print(num1/num2)\n",
    "else:\n",
    "    print(\"wrong option  selected\")\n"
   ]
  }
 ],
 "metadata": {
  "kernelspec": {
   "display_name": "Python 3",
   "language": "python",
   "name": "python3"
  },
  "language_info": {
   "codemirror_mode": {
    "name": "ipython",
    "version": 3
   },
   "file_extension": ".py",
   "mimetype": "text/x-python",
   "name": "python",
   "nbconvert_exporter": "python",
   "pygments_lexer": "ipython3",
   "version": "3.7.6"
  }
 },
 "nbformat": 4,
 "nbformat_minor": 4
}
