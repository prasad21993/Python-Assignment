{
 "cells": [
  {
   "cell_type": "code",
   "execution_count": 3,
   "metadata": {},
   "outputs": [
    {
     "name": "stdout",
     "output_type": "stream",
     "text": [
      "[1, 2, 3, 1, 2, 3]\n",
      "['a', 'b', 'b', 'd', 'a']\n"
     ]
    }
   ],
   "source": [
    "list1 = [1,2,3,1,2,3]\n",
    "list2 = ['a','b','b','d','a']\n",
    "print(list1)\n",
    "print(list2)"
   ]
  },
  {
   "cell_type": "code",
   "execution_count": 2,
   "metadata": {},
   "outputs": [],
   "source": [
    "# It's remve all the element from the list\n",
    "\n",
    "list1 = list1.clear() \n",
    "list1"
   ]
  },
  {
   "cell_type": "code",
   "execution_count": 4,
   "metadata": {},
   "outputs": [
    {
     "name": "stdout",
     "output_type": "stream",
     "text": [
      "2\n",
      "2\n"
     ]
    }
   ],
   "source": [
    "# It's return the number of elements with specified value\n",
    "\n",
    "x = list1.count(1)\n",
    "y = list2.count('a')\n",
    "print(x)\n",
    "print(y)"
   ]
  },
  {
   "cell_type": "code",
   "execution_count": 5,
   "metadata": {},
   "outputs": [
    {
     "name": "stdout",
     "output_type": "stream",
     "text": [
      "[1, 3, 1, 2, 3]\n",
      "['a', 'b', 'b', 'a']\n"
     ]
    }
   ],
   "source": [
    "# Its remove the specified value with is in the list\n",
    "\n",
    "list1.remove(2) \n",
    "list2.remove('d')\n",
    "print(list1)\n",
    "print(list2)"
   ]
  },
  {
   "cell_type": "code",
   "execution_count": 6,
   "metadata": {},
   "outputs": [
    {
     "name": "stdout",
     "output_type": "stream",
     "text": [
      "[3, 2, 1, 3, 1]\n",
      "['a', 'b', 'b', 'a']\n"
     ]
    }
   ],
   "source": [
    "# Reverse the list\n",
    "\n",
    "list1.reverse() \n",
    "list2.reverse()\n",
    "print(list1)\n",
    "print(list2)"
   ]
  },
  {
   "cell_type": "code",
   "execution_count": 7,
   "metadata": {},
   "outputs": [
    {
     "name": "stdout",
     "output_type": "stream",
     "text": [
      "[1, 1, 2, 3, 3]\n",
      "['a', 'a', 'b', 'b']\n"
     ]
    }
   ],
   "source": [
    "#sort the list\n",
    "\n",
    "list1.sort()  \n",
    "list2.sort()\n",
    "print(list1)\n",
    "print(list2)"
   ]
  },
  {
   "cell_type": "code",
   "execution_count": 10,
   "metadata": {},
   "outputs": [
    {
     "name": "stdout",
     "output_type": "stream",
     "text": [
      "[50, 60]\n",
      "[10, 20, [30, 40, [50, 60, 70], 80], 90, 100]\n"
     ]
    }
   ],
   "source": [
    "\"\"\"\n",
    "#Add item 70 after 60 in the following Python List\n",
    "#input\n",
    "#l1 = [10, 20, [30, 40, [50, 60], 80], 90, 100]\n",
    "#output\n",
    "#[10, 20, [30, 40, [50, 60, 70], 80], 90, 100]\n",
    "\"\"\"\n",
    "#with variable\n",
    "\n",
    "L1 = [10, 20, [30, 40, [50, 60], 80], 90, 100]\n",
    "x = L1[2][2]\n",
    "print(x)\n",
    "x.append(70)\n",
    "print(L1)"
   ]
  },
  {
   "cell_type": "code",
   "execution_count": 12,
   "metadata": {},
   "outputs": [
    {
     "name": "stdout",
     "output_type": "stream",
     "text": [
      "[10, 20, [30, 40, [50, 60, 70], 80], 90, 100]\n"
     ]
    }
   ],
   "source": [
    "# without variable\n",
    "\n",
    "L1 = [10, 20, [30, 40, [50, 60], 80], 90, 100]\n",
    "L1[2][2].append(70)\n",
    "print(L1)"
   ]
  },
  {
   "cell_type": "code",
   "execution_count": 20,
   "metadata": {},
   "outputs": [
    {
     "name": "stdout",
     "output_type": "stream",
     "text": [
      "[50, 60]\n",
      "[10, 20, [30, 40, [50, 60, 70], 80], 90, 100]\n"
     ]
    }
   ],
   "source": [
    "#with Insert()\n",
    "\n",
    "L1 = [10, 20, [30, 40, [50, 60], 80], 90, 100]\n",
    "print(L1[2][2])       #checked list of list\n",
    "L1[2][2].insert(2,70) #target positon to insert\n",
    "print(L1)"
   ]
  },
  {
   "cell_type": "code",
   "execution_count": 16,
   "metadata": {},
   "outputs": [
    {
     "name": "stdout",
     "output_type": "stream",
     "text": [
      "[3, 4, 5, 6]\n",
      "[1, 2, [3, 4, 5, 6, [7, 8]], 9]\n"
     ]
    }
   ],
   "source": [
    "\"\"\"\n",
    "add sublist [7,8]\n",
    "input\n",
    "l2 = [1,2,[3,4,5,6],9]\n",
    "output\n",
    "[1,2,[3,4,5,6,[7,8]],9]\n",
    "\"\"\"\n",
    "#with variable\n",
    "L2 = [1,2,[3,4,5,6],9]\n",
    "y = [7,8]\n",
    "y1 = L2[2]\n",
    "print(y1)\n",
    "y1.append(y)\n",
    "print(L2)"
   ]
  },
  {
   "cell_type": "code",
   "execution_count": 17,
   "metadata": {},
   "outputs": [
    {
     "name": "stdout",
     "output_type": "stream",
     "text": [
      "[1, 2, [3, 4, 5, 6, [7, 8]], 9]\n"
     ]
    }
   ],
   "source": [
    "#without variable\n",
    "\n",
    "L2 = [1,2,[3,4,5,6],9]\n",
    "L2[2].append([7,8])\n",
    "print(L2)"
   ]
  },
  {
   "cell_type": "code",
   "execution_count": 19,
   "metadata": {},
   "outputs": [
    {
     "name": "stdout",
     "output_type": "stream",
     "text": [
      "[3, 4, 5, 6]\n",
      "[1, 2, [3, 4, 5, 6, [7, 8]], 9]\n"
     ]
    }
   ],
   "source": [
    "#with insert()\n",
    "\n",
    "L2 = [1,2,[3,4,5,6],9]\n",
    "print(L2[2])              #checked list of list\n",
    "L2[2].insert(4,[7,8])     #target positon to insert\n",
    "print(L2)"
   ]
  }
 ],
 "metadata": {
  "kernelspec": {
   "display_name": "Python 3",
   "language": "python",
   "name": "python3"
  },
  "language_info": {
   "codemirror_mode": {
    "name": "ipython",
    "version": 3
   },
   "file_extension": ".py",
   "mimetype": "text/x-python",
   "name": "python",
   "nbconvert_exporter": "python",
   "pygments_lexer": "ipython3",
   "version": "3.7.6"
  }
 },
 "nbformat": 4,
 "nbformat_minor": 4
}
