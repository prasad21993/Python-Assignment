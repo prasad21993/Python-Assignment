{
 "cells": [
  {
   "cell_type": "code",
   "execution_count": null,
   "metadata": {},
   "outputs": [],
   "source": [
    "def addn(x,y):\n",
    "    return x + y\n",
    "\n",
    "def subn(x,y):\n",
    "    return x - y\n",
    "\n",
    "def multn(x,y):\n",
    "    return x * y\n",
    "\n",
    "def div(x,y):\n",
    "    return x / y\n",
    "    \n",
    "\n",
    "def fun_opt(opt):\n",
    "    if(opt==1):\n",
    "        add= addn(x,y)\n",
    "        print(add)\n",
    "    \n",
    "    elif(opt==2):\n",
    "        sub= subn(x,y)\n",
    "        print(sub)\n",
    "    \n",
    "    elif(opt==3):\n",
    "        mul= multn(x,y)\n",
    "        print(mul)\n",
    "  \n",
    "    else:\n",
    "        div1= div(x,y)\n",
    "        print(div1)\n",
    "\n",
    "def disp():\n",
    "    x = int(input(\"Enter 1st Element \"))\n",
    "    y = int(input(\"Enter 2nd Element \"))\n",
    "    print('')\n",
    "    \n",
    "    print(\"Please select the option from below\")\n",
    "    print(\"1. Addition\")\n",
    "    print(\"2. subtraction\")\n",
    "    print(\"3. multiplication\")\n",
    "    print(\"4. division\")\n",
    "    print('')\n",
    "    opt = int(input(\"Enter the option \"))\n",
    "    fun_opt(opt)\n",
    "\n",
    "\n",
    "def rpt():\n",
    "    print(\"Do you want to select option again??\")\n",
    "    opt1=input(\"Y or N\")\n",
    "    if(opt1=='n'or opt1=='N'):\n",
    "        return\n",
    "    else:\n",
    "        display()\n",
    "        rpt()\n",
    "\n",
    "disp()\n",
    "rpt()"
   ]
  }
 ],
 "metadata": {
  "kernelspec": {
   "display_name": "Python 3",
   "language": "python",
   "name": "python3"
  },
  "language_info": {
   "codemirror_mode": {
    "name": "ipython",
    "version": 3
   },
   "file_extension": ".py",
   "mimetype": "text/x-python",
   "name": "python",
   "nbconvert_exporter": "python",
   "pygments_lexer": "ipython3",
   "version": "3.7.6"
  }
 },
 "nbformat": 4,
 "nbformat_minor": 4
}
